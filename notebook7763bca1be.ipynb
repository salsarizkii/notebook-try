{
  "metadata": {
    "kernelspec": {
      "language": "python",
      "display_name": "Python 3",
      "name": "python3"
    },
    "language_info": {
      "pygments_lexer": "ipython3",
      "nbconvert_exporter": "python",
      "version": "3.6.4",
      "file_extension": ".py",
      "codemirror_mode": {
        "name": "ipython",
        "version": 3
      },
      "name": "python",
      "mimetype": "text/x-python"
    },
    "kaggle": {
      "accelerator": "none",
      "dataSources": [
        {
          "sourceId": 1417276,
          "sourceType": "datasetVersion",
          "datasetId": 826739
        },
        {
          "sourceId": 1710680,
          "sourceType": "datasetVersion",
          "datasetId": 1014346
        }
      ],
      "dockerImageVersionId": 30038,
      "isInternetEnabled": false,
      "language": "python",
      "sourceType": "notebook",
      "isGpuEnabled": false
    },
    "colab": {
      "name": "notebook7763bca1be",
      "provenance": [],
      "include_colab_link": true
    }
  },
  "nbformat_minor": 0,
  "nbformat": 4,
  "cells": [
    {
      "cell_type": "markdown",
      "metadata": {
        "id": "view-in-github",
        "colab_type": "text"
      },
      "source": [
        "<a href=\"https://colab.research.google.com/github/salsarizkii/notebook-try/blob/main/notebook7763bca1be.ipynb\" target=\"_parent\"><img src=\"https://colab.research.google.com/assets/colab-badge.svg\" alt=\"Open In Colab\"/></a>"
      ]
    },
    {
      "source": [
        "\n",
        "import kagglehub\n",
        "kneroma_tacotrashdataset_path = kagglehub.dataset_download('kneroma/tacotrashdataset')\n",
        "bouweceunen_trained_models_taco_trash_annotations_in_context_path = kagglehub.dataset_download('bouweceunen/trained-models-taco-trash-annotations-in-context')\n",
        "\n",
        "print('Data source import complete.')\n"
      ],
      "metadata": {
        "id": "3C_aF6kah1tR"
      },
      "cell_type": "code",
      "outputs": [],
      "execution_count": null
    },
    {
      "cell_type": "markdown",
      "source": [
        "# TACO (Garbage) Detection (SSD MobileNet v2) with TensorFlow"
      ],
      "metadata": {
        "papermill": {
          "duration": 0.019055,
          "end_time": "2020-12-08T22:42:03.196684",
          "exception": false,
          "start_time": "2020-12-08T22:42:03.177629",
          "status": "completed"
        },
        "tags": [],
        "id": "9w9UInyAh1tT"
      }
    },
    {
      "cell_type": "markdown",
      "source": [
        "TACO can be found here: http://tacodataset.org/. 🌮 is an open image dataset of waste in the wild. It contains photos of litter taken under diverse environments, from tropical beaches to London streets."
      ],
      "metadata": {
        "id": "3wdD1uiWh1tU"
      }
    },
    {
      "cell_type": "markdown",
      "source": [
        "We are going to use pretrained models in this notebook to show how you can do inference on them of unseen images. The pretrained models can be found here: https://www.kaggle.com/bouweceunen/trained-models-taco-trash-annotations-in-context"
      ],
      "metadata": {
        "id": "Bt5dUh20h1tV"
      }
    },
    {
      "cell_type": "code",
      "source": [
        "import numpy as np\n",
        "import pandas as pd\n",
        "import tensorflow as tf\n",
        "from PIL import Image\n",
        "from matplotlib import pyplot as plt\n",
        "from tensorflow.python.util import compat\n",
        "from tensorflow.core.protobuf import saved_model_pb2\n",
        "from google.protobuf import text_format\n",
        "import pprint\n",
        "import json\n",
        "import os"
      ],
      "metadata": {
        "_cell_guid": "b1076dfc-b9ad-4769-8c92-a6c4dae69d19",
        "_uuid": "8f2839f25d086af736a60e9eeb907d3b93b6e0e5",
        "execution": {
          "iopub.execute_input": "2020-12-08T22:42:03.237649Z",
          "iopub.status.busy": "2020-12-08T22:42:03.236797Z",
          "iopub.status.idle": "2020-12-08T22:42:09.414851Z",
          "shell.execute_reply": "2020-12-08T22:42:09.414124Z"
        },
        "papermill": {
          "duration": 6.201642,
          "end_time": "2020-12-08T22:42:09.415008",
          "exception": false,
          "start_time": "2020-12-08T22:42:03.213366",
          "status": "completed"
        },
        "tags": [],
        "trusted": true,
        "id": "1W2pFB7Hh1tV"
      },
      "execution_count": null,
      "outputs": []
    },
    {
      "cell_type": "code",
      "source": [
        "# needed to install object_detection library and enlarge labels\n",
        "! rm -rf ./models && git clone https://github.com/tensorflow/models.git \\\n",
        "    && sed -i \"s#ImageFont.truetype('arial.ttf', 24)#ImageFont.truetype('arial.ttf', 50)#g\" ./models/research/object_detection/utils/visualization_utils.py \\\n",
        "    && cp /usr/share/fonts/truetype/dejavu/DejaVuSans.ttf /usr/share/fonts/truetype/dejavu/arial.ttf"
      ],
      "metadata": {
        "trusted": true,
        "id": "LWAOFRszh1tW"
      },
      "execution_count": null,
      "outputs": []
    },
    {
      "cell_type": "code",
      "source": [
        "# install object_detection library\n",
        "! cd models/research \\\n",
        "    && protoc object_detection/protos/*.proto --python_out=. \\\n",
        "    && cp object_detection/packages/tf2/setup.py . && \\\n",
        "    python3 -m pip install --use-feature=2020-resolver ."
      ],
      "metadata": {
        "execution": {
          "iopub.execute_input": "2020-12-08T22:42:09.459282Z",
          "iopub.status.busy": "2020-12-08T22:42:09.458246Z",
          "iopub.status.idle": "2020-12-08T22:43:14.799621Z",
          "shell.execute_reply": "2020-12-08T22:43:14.798853Z"
        },
        "papermill": {
          "duration": 65.367726,
          "end_time": "2020-12-08T22:43:14.799747",
          "exception": false,
          "start_time": "2020-12-08T22:42:09.432021",
          "status": "completed"
        },
        "tags": [],
        "trusted": true,
        "id": "Zyl12gbIh1tW"
      },
      "execution_count": null,
      "outputs": []
    },
    {
      "cell_type": "code",
      "source": [
        "from object_detection.utils import visualization_utils as vis_util\n",
        "from object_detection.utils import dataset_util, label_map_util\n",
        "from object_detection.protos import string_int_label_map_pb2"
      ],
      "metadata": {
        "execution": {
          "iopub.execute_input": "2020-12-08T22:43:15.016896Z",
          "iopub.status.busy": "2020-12-08T22:43:15.015844Z",
          "iopub.status.idle": "2020-12-08T22:43:15.120642Z",
          "shell.execute_reply": "2020-12-08T22:43:15.119802Z"
        },
        "papermill": {
          "duration": 0.216227,
          "end_time": "2020-12-08T22:43:15.120776",
          "exception": false,
          "start_time": "2020-12-08T22:43:14.904549",
          "status": "completed"
        },
        "tags": [],
        "trusted": true,
        "id": "kiYU8z1hh1tX"
      },
      "execution_count": null,
      "outputs": []
    },
    {
      "cell_type": "code",
      "source": [
        "# reconstruct frozen graph\n",
        "def reconstruct(pb_path):\n",
        "    if not os.path.isfile(pb_path):\n",
        "        print(\"Error: %s not found\" % pb_path)\n",
        "\n",
        "    print(\"Reconstructing Tensorflow model\")\n",
        "    detection_graph = tf.Graph()\n",
        "    with detection_graph.as_default():\n",
        "        od_graph_def = tf.compat.v1.GraphDef()\n",
        "        with tf.io.gfile.GFile(pb_path, 'rb') as fid:\n",
        "            serialized_graph = fid.read()\n",
        "            od_graph_def.ParseFromString(serialized_graph)\n",
        "            tf.import_graph_def(od_graph_def, name='')\n",
        "    print(\"Success!\")\n",
        "    return detection_graph"
      ],
      "metadata": {
        "execution": {
          "iopub.execute_input": "2020-12-08T22:43:15.348463Z",
          "iopub.status.busy": "2020-12-08T22:43:15.34765Z",
          "iopub.status.idle": "2020-12-08T22:43:15.351202Z",
          "shell.execute_reply": "2020-12-08T22:43:15.350531Z"
        },
        "papermill": {
          "duration": 0.120422,
          "end_time": "2020-12-08T22:43:15.351329",
          "exception": false,
          "start_time": "2020-12-08T22:43:15.230907",
          "status": "completed"
        },
        "tags": [],
        "trusted": true,
        "id": "bOQfAuu9h1tX"
      },
      "execution_count": null,
      "outputs": []
    },
    {
      "cell_type": "code",
      "source": [
        "# visualize detection\n",
        "def image2np(image):\n",
        "    (w, h) = image.size\n",
        "    return np.array(image.getdata()).reshape((h, w, 3)).astype(np.uint8)\n",
        "\n",
        "def image2tensor(image):\n",
        "    npim = image2np(image)\n",
        "    return np.expand_dims(npim, axis=0)\n",
        "\n",
        "%matplotlib inline\n",
        "def detect(detection_graph, test_image_path):\n",
        "    with detection_graph.as_default():\n",
        "        gpu_options = tf.compat.v1.GPUOptions(per_process_gpu_memory_fraction=0.01)\n",
        "        with tf.compat.v1.Session(graph=detection_graph,config=tf.compat.v1.ConfigProto(gpu_options=gpu_options)) as sess:\n",
        "            image_tensor = detection_graph.get_tensor_by_name('image_tensor:0')\n",
        "            detection_boxes = detection_graph.get_tensor_by_name('detection_boxes:0')\n",
        "            detection_scores = detection_graph.get_tensor_by_name('detection_scores:0')\n",
        "            detection_classes = detection_graph.get_tensor_by_name('detection_classes:0')\n",
        "            num_detections = detection_graph.get_tensor_by_name('num_detections:0')\n",
        "\n",
        "            image = Image.open(test_image_path)\n",
        "            (boxes, scores, classes, num) = sess.run(\n",
        "                [detection_boxes, detection_scores, detection_classes, num_detections],\n",
        "                feed_dict={image_tensor: image2tensor(image)}\n",
        "            )\n",
        "\n",
        "            npim = image2np(image)\n",
        "            vis_util.visualize_boxes_and_labels_on_image_array(\n",
        "                npim,\n",
        "                np.squeeze(boxes),\n",
        "                np.squeeze(classes).astype(np.int32),\n",
        "                np.squeeze(scores),\n",
        "                category_index,\n",
        "                use_normalized_coordinates=True,\n",
        "                line_thickness=15)\n",
        "            plt.figure(figsize=(12, 8))\n",
        "            plt.imshow(npim)\n",
        "            plt.show()"
      ],
      "metadata": {
        "_cell_guid": "79c7e3d0-c299-4dcb-8224-4455121ee9b0",
        "_uuid": "d629ff2d2480ee46fbb7e2d37f6b5fab8052498a",
        "execution": {
          "iopub.execute_input": "2020-12-08T22:43:15.591781Z",
          "iopub.status.busy": "2020-12-08T22:43:15.586629Z",
          "iopub.status.idle": "2020-12-08T22:43:15.597492Z",
          "shell.execute_reply": "2020-12-08T22:43:15.596806Z"
        },
        "papermill": {
          "duration": 0.142051,
          "end_time": "2020-12-08T22:43:15.597622",
          "exception": false,
          "start_time": "2020-12-08T22:43:15.455571",
          "status": "completed"
        },
        "tags": [],
        "trusted": true,
        "id": "bDsOIMN3h1tY"
      },
      "execution_count": null,
      "outputs": []
    },
    {
      "cell_type": "markdown",
      "source": [
        "# Create LabelMap"
      ],
      "metadata": {
        "papermill": {
          "duration": 0.104059,
          "end_time": "2020-12-08T22:43:15.807126",
          "exception": false,
          "start_time": "2020-12-08T22:43:15.703067",
          "status": "completed"
        },
        "tags": [],
        "id": "0fp8iCVHh1tY"
      }
    },
    {
      "cell_type": "markdown",
      "source": [
        "First we need to create the label map."
      ],
      "metadata": {
        "papermill": {
          "duration": 0.129655,
          "end_time": "2020-12-08T22:43:16.072229",
          "exception": false,
          "start_time": "2020-12-08T22:43:15.942574",
          "status": "completed"
        },
        "tags": [],
        "id": "NrpugG2yh1tY"
      }
    },
    {
      "cell_type": "code",
      "source": [
        "DATA_DIR = '/kaggle/input/tacotrashdataset/data'\n",
        "ANNOTATIONS_FILE = os.path.join(DATA_DIR, 'annotations.json')\n",
        "NCLASSES = 60"
      ],
      "metadata": {
        "execution": {
          "iopub.execute_input": "2020-12-08T22:43:16.294236Z",
          "iopub.status.busy": "2020-12-08T22:43:16.293452Z",
          "iopub.status.idle": "2020-12-08T22:43:16.297106Z",
          "shell.execute_reply": "2020-12-08T22:43:16.296509Z"
        },
        "papermill": {
          "duration": 0.116804,
          "end_time": "2020-12-08T22:43:16.297261",
          "exception": false,
          "start_time": "2020-12-08T22:43:16.180457",
          "status": "completed"
        },
        "tags": [],
        "trusted": true,
        "id": "STNZJHSAh1tY"
      },
      "execution_count": null,
      "outputs": []
    },
    {
      "cell_type": "code",
      "source": [
        "with open(ANNOTATIONS_FILE) as json_file:\n",
        "    data = json.load(json_file)\n",
        "\n",
        "categories = data['categories']"
      ],
      "metadata": {
        "trusted": true,
        "id": "BzgYTcnRh1tZ"
      },
      "execution_count": null,
      "outputs": []
    },
    {
      "cell_type": "code",
      "source": [
        "print('Building label map from examples')\n",
        "\n",
        "labelmap = string_int_label_map_pb2.StringIntLabelMap()\n",
        "for idx,category in enumerate(categories):\n",
        "    item = labelmap.item.add()\n",
        "    # label map id 0 is reserved for the background label\n",
        "    item.id = int(category['id'])+1\n",
        "    item.name = category['name']\n",
        "\n",
        "with open('./labelmap.pbtxt', 'w') as f:\n",
        "    f.write(text_format.MessageToString(labelmap))\n",
        "\n",
        "print('Label map witten to labelmap.pbtxt')\n",
        "\n",
        "with open('./labelmap.pbtxt') as f:\n",
        "    pprint.pprint(f.readlines())"
      ],
      "metadata": {
        "execution": {
          "iopub.execute_input": "2020-12-08T22:43:16.519174Z",
          "iopub.status.busy": "2020-12-08T22:43:16.518308Z",
          "iopub.status.idle": "2020-12-08T22:43:16.523635Z",
          "shell.execute_reply": "2020-12-08T22:43:16.522724Z"
        },
        "papermill": {
          "duration": 0.120803,
          "end_time": "2020-12-08T22:43:16.523797",
          "exception": false,
          "start_time": "2020-12-08T22:43:16.402994",
          "status": "completed"
        },
        "tags": [],
        "trusted": true,
        "id": "etwHmk-vh1tZ"
      },
      "execution_count": null,
      "outputs": []
    },
    {
      "cell_type": "code",
      "source": [
        "label_map = label_map_util.load_labelmap('labelmap.pbtxt')\n",
        "categories = label_map_util.convert_label_map_to_categories(label_map, max_num_classes=NCLASSES, use_display_name=True)\n",
        "category_index = label_map_util.create_category_index(categories)"
      ],
      "metadata": {
        "execution": {
          "iopub.execute_input": "2020-12-08T22:43:16.742617Z",
          "iopub.status.busy": "2020-12-08T22:43:16.741637Z",
          "iopub.status.idle": "2020-12-08T22:43:16.745655Z",
          "shell.execute_reply": "2020-12-08T22:43:16.746325Z"
        },
        "papermill": {
          "duration": 0.11658,
          "end_time": "2020-12-08T22:43:16.746483",
          "exception": false,
          "start_time": "2020-12-08T22:43:16.629903",
          "status": "completed"
        },
        "tags": [],
        "trusted": true,
        "id": "miuzQ1F8h1tZ"
      },
      "execution_count": null,
      "outputs": []
    },
    {
      "cell_type": "markdown",
      "source": [
        "# Reconstruct Frozen Graph"
      ],
      "metadata": {
        "papermill": {
          "duration": 0.120663,
          "end_time": "2020-12-08T22:43:16.974274",
          "exception": false,
          "start_time": "2020-12-08T22:43:16.853611",
          "status": "completed"
        },
        "tags": [],
        "id": "ZrCoO3Tih1tZ"
      }
    },
    {
      "cell_type": "markdown",
      "source": [
        "Now we are going to reconstruct the TensorFlow frozen graph (.pb)."
      ],
      "metadata": {
        "papermill": {
          "duration": 0.106576,
          "end_time": "2020-12-08T22:43:17.189296",
          "exception": false,
          "start_time": "2020-12-08T22:43:17.08272",
          "status": "completed"
        },
        "tags": [],
        "id": "Nvsmj1BIh1tZ"
      }
    },
    {
      "cell_type": "code",
      "source": [
        "detection_graph = reconstruct(\"../input/trained-models-taco-trash-annotations-in-context/ssd_mobilenet_v2_taco_2018_03_29.pb\")"
      ],
      "metadata": {
        "execution": {
          "iopub.execute_input": "2020-12-08T22:43:17.40647Z",
          "iopub.status.busy": "2020-12-08T22:43:17.405647Z",
          "iopub.status.idle": "2020-12-08T22:43:18.969041Z",
          "shell.execute_reply": "2020-12-08T22:43:18.967888Z"
        },
        "papermill": {
          "duration": 1.67403,
          "end_time": "2020-12-08T22:43:18.969278",
          "exception": false,
          "start_time": "2020-12-08T22:43:17.295248",
          "status": "completed"
        },
        "tags": [],
        "trusted": true,
        "id": "a6UZ6832h1ta"
      },
      "execution_count": null,
      "outputs": []
    },
    {
      "cell_type": "markdown",
      "source": [
        "# Validate Test Images"
      ],
      "metadata": {
        "papermill": {
          "duration": 0.108029,
          "end_time": "2020-12-08T22:43:19.188293",
          "exception": false,
          "start_time": "2020-12-08T22:43:19.080264",
          "status": "completed"
        },
        "tags": [],
        "id": "okHIUAZth1ta"
      }
    },
    {
      "cell_type": "markdown",
      "source": [
        "We can now test it on some test images."
      ],
      "metadata": {
        "papermill": {
          "duration": 0.110102,
          "end_time": "2020-12-08T22:43:19.407128",
          "exception": false,
          "start_time": "2020-12-08T22:43:19.297026",
          "status": "completed"
        },
        "tags": [],
        "id": "dlmFVOvVh1ta"
      }
    },
    {
      "cell_type": "code",
      "source": [
        "detect(detection_graph, '/kaggle/input/tacotrashdataset/data/batch_1/000000.jpg')"
      ],
      "metadata": {
        "execution": {
          "iopub.execute_input": "2020-12-08T22:43:19.625096Z",
          "iopub.status.busy": "2020-12-08T22:43:19.624329Z",
          "iopub.status.idle": "2020-12-08T22:43:22.056129Z",
          "shell.execute_reply": "2020-12-08T22:43:22.055321Z"
        },
        "papermill": {
          "duration": 2.542601,
          "end_time": "2020-12-08T22:43:22.056279",
          "exception": false,
          "start_time": "2020-12-08T22:43:19.513678",
          "status": "completed"
        },
        "tags": [],
        "trusted": true,
        "id": "GG4kapGTh1ta"
      },
      "execution_count": null,
      "outputs": []
    },
    {
      "cell_type": "code",
      "source": [
        "detect(detection_graph, '/kaggle/input/tacotrashdataset/data/batch_3/IMG_4852.JPG')"
      ],
      "metadata": {
        "execution": {
          "iopub.execute_input": "2020-12-08T22:43:22.300879Z",
          "iopub.status.busy": "2020-12-08T22:43:22.300121Z",
          "iopub.status.idle": "2020-12-08T22:43:24.323945Z",
          "shell.execute_reply": "2020-12-08T22:43:24.323279Z"
        },
        "papermill": {
          "duration": 2.147036,
          "end_time": "2020-12-08T22:43:24.324065",
          "exception": false,
          "start_time": "2020-12-08T22:43:22.177029",
          "status": "completed"
        },
        "tags": [],
        "trusted": true,
        "id": "SqFPGX5Kh1ta"
      },
      "execution_count": null,
      "outputs": []
    },
    {
      "cell_type": "code",
      "source": [
        "detect(detection_graph, '/kaggle/input/tacotrashdataset/data/batch_5/000000.JPG')"
      ],
      "metadata": {
        "execution": {
          "iopub.execute_input": "2020-12-08T22:43:24.602643Z",
          "iopub.status.busy": "2020-12-08T22:43:24.601833Z",
          "iopub.status.idle": "2020-12-08T22:43:26.485065Z",
          "shell.execute_reply": "2020-12-08T22:43:26.484368Z"
        },
        "papermill": {
          "duration": 2.025582,
          "end_time": "2020-12-08T22:43:26.485228",
          "exception": false,
          "start_time": "2020-12-08T22:43:24.459646",
          "status": "completed"
        },
        "tags": [],
        "trusted": true,
        "id": "9giKzLvWh1ta"
      },
      "execution_count": null,
      "outputs": []
    },
    {
      "cell_type": "code",
      "source": [
        "detect(detection_graph, '/kaggle/input/tacotrashdataset/data/batch_6/000000.JPG')"
      ],
      "metadata": {
        "execution": {
          "iopub.execute_input": "2020-12-08T22:43:26.780863Z",
          "iopub.status.busy": "2020-12-08T22:43:26.780158Z",
          "iopub.status.idle": "2020-12-08T22:43:28.758149Z",
          "shell.execute_reply": "2020-12-08T22:43:28.75744Z"
        },
        "papermill": {
          "duration": 2.127861,
          "end_time": "2020-12-08T22:43:28.758289",
          "exception": false,
          "start_time": "2020-12-08T22:43:26.630428",
          "status": "completed"
        },
        "tags": [],
        "trusted": true,
        "id": "ya2D9IqZh1ta"
      },
      "execution_count": null,
      "outputs": []
    },
    {
      "cell_type": "code",
      "source": [
        "detect(detection_graph, '/kaggle/input/tacotrashdataset/data/batch_1/000001.jpg')"
      ],
      "metadata": {
        "trusted": true,
        "id": "sSpJu28Xh1ta"
      },
      "execution_count": null,
      "outputs": []
    },
    {
      "cell_type": "code",
      "source": [
        "detect(detection_graph, '/kaggle/input/tacotrashdataset/data/batch_1/000003.jpg')"
      ],
      "metadata": {
        "trusted": true,
        "id": "GxfwVym2h1tb"
      },
      "execution_count": null,
      "outputs": []
    },
    {
      "cell_type": "code",
      "source": [
        "detect(detection_graph, '/kaggle/input/tacotrashdataset/data/batch_1/000010.jpg')"
      ],
      "metadata": {
        "trusted": true,
        "id": "s_A2pJAoh1tb"
      },
      "execution_count": null,
      "outputs": []
    },
    {
      "cell_type": "markdown",
      "source": [
        "# Cleanup"
      ],
      "metadata": {
        "papermill": {
          "duration": 0.161194,
          "end_time": "2020-12-08T22:43:29.079035",
          "exception": false,
          "start_time": "2020-12-08T22:43:28.917841",
          "status": "completed"
        },
        "tags": [],
        "id": "WHjtWQCTh1tb"
      }
    },
    {
      "cell_type": "code",
      "source": [
        "! rm -rf ./models"
      ],
      "metadata": {
        "execution": {
          "iopub.execute_input": "2020-12-08T22:43:29.407972Z",
          "iopub.status.busy": "2020-12-08T22:43:29.400573Z",
          "iopub.status.idle": "2020-12-08T22:43:30.303034Z",
          "shell.execute_reply": "2020-12-08T22:43:30.30363Z"
        },
        "papermill": {
          "duration": 1.066158,
          "end_time": "2020-12-08T22:43:30.303808",
          "exception": false,
          "start_time": "2020-12-08T22:43:29.23765",
          "status": "completed"
        },
        "tags": [],
        "trusted": true,
        "id": "kOv-kTcVh1tb"
      },
      "execution_count": null,
      "outputs": []
    }
  ]
}